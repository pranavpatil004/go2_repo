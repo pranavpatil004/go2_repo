{
 "cells": [
  {
   "cell_type": "code",
   "execution_count": 1,
   "id": "4ab1cb64-00b4-45b4-967a-9c3e77a3214a",
   "metadata": {},
   "outputs": [],
   "source": [
    "import time\n",
    "import sys\n",
    "\n",
    "from unitree_sdk2py.core.channel import ChannelFactoryInitialize\n",
    "from unitree_sdk2py.go2.vui.vui_client import VuiClient\n",
    "ChannelFactoryInitialize(0, \"eth0\")\n",
    "\n",
    "client = VuiClient()\n",
    "client.SetTimeout(3.0)\n",
    "client.Init()"
   ]
  },
  {
   "cell_type": "code",
   "execution_count": 11,
   "id": "aa305602-3d11-4845-b032-640916b0f38f",
   "metadata": {},
   "outputs": [
    {
     "data": {
      "text/plain": [
       "(0, 5)"
      ]
     },
     "execution_count": 11,
     "metadata": {},
     "output_type": "execute_result"
    }
   ],
   "source": [
    "code, level = client.GetBrightness()\n",
    "code, level"
   ]
  },
  {
   "cell_type": "code",
   "execution_count": 19,
   "id": "70a89b14-0ad8-4933-a10b-53d6d9c50f22",
   "metadata": {},
   "outputs": [],
   "source": [
    "def disco_mode():\n",
    "    pattern = [0, 3, 6, 9, 11, 7, 4, 2]  # A rhythmic pattern\n",
    "    while True:\n",
    "        for level in pattern:\n",
    "            client.SetBrightness(level)\n",
    "            time.sleep(0.1)  # Adjust for desired speed"
   ]
  },
  {
   "cell_type": "code",
   "execution_count": 20,
   "id": "942ac97c-6a56-4e11-b026-af88b7f03160",
   "metadata": {},
   "outputs": [
    {
     "data": {
      "text/plain": [
       "(0, 10)"
      ]
     },
     "execution_count": 20,
     "metadata": {},
     "output_type": "execute_result"
    }
   ],
   "source": [
    "code, level = client.GetVolume()\n",
    "code, level"
   ]
  },
  {
   "cell_type": "code",
   "execution_count": 23,
   "id": "63a7933c-fadf-448c-b607-cdd05ed0365e",
   "metadata": {},
   "outputs": [
    {
     "data": {
      "text/plain": [
       "0"
      ]
     },
     "execution_count": 23,
     "metadata": {},
     "output_type": "execute_result"
    }
   ],
   "source": [
    "client.SetBrightness(0)"
   ]
  },
  {
   "cell_type": "code",
   "execution_count": 27,
   "id": "63b4a08b-16b0-4ddc-ba60-22296f31b1f1",
   "metadata": {},
   "outputs": [
    {
     "data": {
      "text/plain": [
       "0"
      ]
     },
     "execution_count": 27,
     "metadata": {},
     "output_type": "execute_result"
    }
   ],
   "source": [
    "client.SetVolume(10)"
   ]
  },
  {
   "cell_type": "code",
   "execution_count": null,
   "id": "822a3a13-26b4-4a14-8ae0-2d547092dbf9",
   "metadata": {},
   "outputs": [],
   "source": []
  },
  {
   "cell_type": "code",
   "execution_count": null,
   "id": "b371a6ee-e520-4266-b3f4-203b77823af5",
   "metadata": {},
   "outputs": [],
   "source": []
  }
 ],
 "metadata": {
  "kernelspec": {
   "display_name": ".jetbotenv",
   "language": "python",
   "name": ".jetbotenv"
  },
  "language_info": {
   "codemirror_mode": {
    "name": "ipython",
    "version": 3
   },
   "file_extension": ".py",
   "mimetype": "text/x-python",
   "name": "python",
   "nbconvert_exporter": "python",
   "pygments_lexer": "ipython3",
   "version": "3.8.10"
  }
 },
 "nbformat": 4,
 "nbformat_minor": 5
}
