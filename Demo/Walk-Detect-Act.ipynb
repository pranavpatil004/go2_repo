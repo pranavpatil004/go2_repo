{
 "cells": [
  {
   "cell_type": "markdown",
   "id": "d77491ad-19cb-4704-aa60-88b55f7226a7",
   "metadata": {},
   "source": [
    "# Main NoteBook - Random Walk + AprilTag Detection + Action"
   ]
  },
  {
   "cell_type": "code",
   "execution_count": 1,
   "id": "7a6c525f-8a58-47cc-bdd4-66279e42703c",
   "metadata": {},
   "outputs": [],
   "source": [
    "# Imports\n",
    "import time\n",
    "import sys\n",
    "import math\n",
    "from dataclasses import dataclass\n",
    "from random import randint\n",
    "import asyncio\n",
    "\n",
    "from IPython.display import clear_output\n",
    "import cv2                                # state of the art computer vision algorithms library\n",
    "import numpy as np                        # fundamental package for scientific computing\n",
    "import matplotlib.pyplot as plt           # 2D plotting library producing publication quality figures\n",
    "import pyrealsense2 as rs                 # Intel RealSense cross-platform open-source API\n",
    "from pyapriltags import Detector\n",
    "\n",
    "\n",
    "from unitree_sdk2py.core.channel import ChannelSubscriber, ChannelFactoryInitialize\n",
    "from unitree_sdk2py.idl.default import unitree_go_msg_dds__SportModeState_\n",
    "from unitree_sdk2py.idl.unitree_go.msg.dds_ import SportModeState_\n",
    "from unitree_sdk2py.go2.sport.sport_client import (\n",
    "    SportClient,\n",
    "    PathPoint,\n",
    "    SPORT_PATH_POINT_SIZE,\n",
    ")\n",
    "from unitree_sdk2py.go2.obstacles_avoid.obstacles_avoid_client import ObstaclesAvoidClient\n",
    "\n",
    "%matplotlib inline"
   ]
  },
  {
   "cell_type": "code",
   "execution_count": 2,
   "id": "790dce7b-3a64-4e98-9931-37bf4edfaa4e",
   "metadata": {},
   "outputs": [],
   "source": [
    "ChannelFactoryInitialize(0, \"eth0\")\n",
    "# ChannelFactoryInitialize()\n",
    "\n",
    "sport_client = SportClient()  \n",
    "sport_client.SetTimeout(10.0)\n",
    "sport_client.Init()\n",
    "\n",
    "obsclient = ObstaclesAvoidClient()\n",
    "obsclient.SetTimeout(3.0)\n",
    "obsclient.Init()"
   ]
  },
  {
   "cell_type": "code",
   "execution_count": 3,
   "id": "bf2a6089-0756-47c1-ac5d-aa5f1b0fd6c5",
   "metadata": {},
   "outputs": [],
   "source": [
    "at_detector = Detector(families='tag36h11',\n",
    "                       nthreads=1,\n",
    "                       quad_decimate=1.0,\n",
    "                       quad_sigma=0.0,\n",
    "                       refine_edges=1,\n",
    "                       decode_sharpening=0.25,\n",
    "                       debug=0)"
   ]
  },
  {
   "cell_type": "code",
   "execution_count": 4,
   "id": "9a7a02a2-dffb-4a37-acf1-1cc7c50da620",
   "metadata": {},
   "outputs": [],
   "source": [
    "\n",
    "def move_randomly(vx=0.3, vy=0.3, vyaw=0.3):\n",
    "    obsclient.UseRemoteCommandFromApi(True)\n",
    "    obsclient.Move(abs(vx), vy, vyaw)\n",
    "    time.sleep(1)\n",
    "\n",
    "def stop_move():\n",
    "    obsclient.Move(0.0, 0, 0)\n",
    "    obsclient.UseRemoteCommandFromApi(False)\n",
    "    time.sleep(1)\n",
    "\n",
    "def act(code):\n",
    "    stop_move()\n",
    "    sport_client.BalanceStand()\n",
    "    time.sleep(1)\n",
    "    if code == 0:\n",
    "        # hello\n",
    "        sport_client.Hello()\n",
    "    elif code == 1:\n",
    "        sport_client.Heart()\n",
    "    elif code == 2:\n",
    "        sport_client.Stretch()\n",
    "        time.sleep(2)\n",
    "    elif code == 3:\n",
    "        sport_client.WiggleHips()\n",
    "        time.sleep(5)\n",
    "    elif code == 4:\n",
    "        sport_client.StandDown()\n",
    "        time.sleep(2)\n",
    "        sport_client.StandUp()\n",
    "        time.sleep(2)\n",
    "    else:\n",
    "        move_randomly()\n",
    "        time.sleep(1)\n",
    "        return\n",
    "   \n",
    "    #end\n",
    "    time.sleep(1)\n",
    "    sport_client.BalanceStand()\n",
    "    time.sleep(1)\n",
    "    move_randomly()\n",
    "    time.sleep(5)\n",
    "  "
   ]
  },
  {
   "cell_type": "code",
   "execution_count": 5,
   "id": "f5c324bd-a2b5-42ee-8538-686ed7efee0c",
   "metadata": {},
   "outputs": [],
   "source": [
    "# camera Setup:\n",
    "pipe = rs.pipeline()\n",
    "cfg = rs.config()\n",
    "profile = pipe.start(cfg)"
   ]
  },
  {
   "cell_type": "code",
   "execution_count": 6,
   "id": "a8fca35e-ae4f-4e9a-b47e-0893ad19d39a",
   "metadata": {},
   "outputs": [],
   "source": [
    "def detect_tag():\n",
    "    frameset = pipe.wait_for_frames()\n",
    "    color_frame = frameset.get_color_frame()\n",
    "    color_rgb = np.asanyarray(color_frame.get_data())\n",
    "    center_crop = color_rgb[:,240:-240,:]\n",
    "    center_crop_gray = cv2.cvtColor(center_crop, cv2.COLOR_RGB2GRAY)\n",
    "    tags = at_detector.detect(center_crop_gray)\n",
    "    return [t.tag_id for t in tags]"
   ]
  },
  {
   "cell_type": "code",
   "execution_count": 7,
   "id": "c4f39f92-93fa-4579-b1c0-e543598b146f",
   "metadata": {},
   "outputs": [
    {
     "name": "stdout",
     "output_type": "stream",
     "text": [
      "4\n",
      "4\n",
      "4\n",
      "4\n"
     ]
    },
    {
     "ename": "KeyboardInterrupt",
     "evalue": "",
     "output_type": "error",
     "traceback": [
      "\u001b[0;31m---------------------------------------------------------------------------\u001b[0m",
      "\u001b[0;31mKeyboardInterrupt\u001b[0m                         Traceback (most recent call last)",
      "Cell \u001b[0;32mIn[7], line 7\u001b[0m\n\u001b[1;32m      5\u001b[0m \u001b[38;5;28;01mif\u001b[39;00m \u001b[38;5;28mlen\u001b[39m(tags) \u001b[38;5;241m>\u001b[39m \u001b[38;5;241m0\u001b[39m:\n\u001b[1;32m      6\u001b[0m     \u001b[38;5;28mprint\u001b[39m(tags[\u001b[38;5;241m0\u001b[39m])\n\u001b[0;32m----> 7\u001b[0m     \u001b[43mact\u001b[49m\u001b[43m(\u001b[49m\u001b[43mtags\u001b[49m\u001b[43m[\u001b[49m\u001b[38;5;241;43m0\u001b[39;49m\u001b[43m]\u001b[49m\u001b[43m)\u001b[49m\n",
      "Cell \u001b[0;32mIn[4], line 41\u001b[0m, in \u001b[0;36mact\u001b[0;34m(code)\u001b[0m\n\u001b[1;32m     39\u001b[0m time\u001b[38;5;241m.\u001b[39msleep(\u001b[38;5;241m1\u001b[39m)\n\u001b[1;32m     40\u001b[0m move_randomly()\n\u001b[0;32m---> 41\u001b[0m \u001b[43mtime\u001b[49m\u001b[38;5;241;43m.\u001b[39;49m\u001b[43msleep\u001b[49m\u001b[43m(\u001b[49m\u001b[38;5;241;43m5\u001b[39;49m\u001b[43m)\u001b[49m\n",
      "\u001b[0;31mKeyboardInterrupt\u001b[0m: "
     ]
    }
   ],
   "source": [
    " while True:\n",
    "    r = (np.random.random(3)-0.5)*0.8\n",
    "    move_randomly(*r)\n",
    "    tags = detect_tag()\n",
    "    if len(tags) > 0:\n",
    "        print(tags[0])\n",
    "        act(tags[0])"
   ]
  },
  {
   "cell_type": "code",
   "execution_count": 8,
   "id": "eed046d9-3fa8-4752-9859-dbafc97c709c",
   "metadata": {},
   "outputs": [],
   "source": [
    "stop_move()"
   ]
  },
  {
   "cell_type": "code",
   "execution_count": null,
   "id": "7e8f9257-8d38-4f2e-81a9-87b8248f4002",
   "metadata": {},
   "outputs": [],
   "source": []
  }
 ],
 "metadata": {
  "kernelspec": {
   "display_name": ".jetbotenv",
   "language": "python",
   "name": ".jetbotenv"
  },
  "language_info": {
   "codemirror_mode": {
    "name": "ipython",
    "version": 3
   },
   "file_extension": ".py",
   "mimetype": "text/x-python",
   "name": "python",
   "nbconvert_exporter": "python",
   "pygments_lexer": "ipython3",
   "version": "3.8.10"
  }
 },
 "nbformat": 4,
 "nbformat_minor": 5
}
